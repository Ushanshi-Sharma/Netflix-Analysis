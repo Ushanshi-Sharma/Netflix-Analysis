{
 "cells": [
  {
   "cell_type": "markdown",
   "id": "68bebad2-4845-4188-acb3-24638fc188d7",
   "metadata": {},
   "source": [
    "## NETFLIX DATA ANALYSIS PROJECT USING PYTHON + SQL + POWER BI"
   ]
  },
  {
   "cell_type": "markdown",
   "id": "ad888c20-80df-4943-8e17-bd1c39a6e134",
   "metadata": {},
   "source": [
    "<div style=\"text-align: center; background-color: black;\">\n",
    "  <span style=\"font-size: 72px; color: red; font-weight: bold;\">NETFLIX</span>\n",
    "</div>"
   ]
  },
  {
   "cell_type": "markdown",
   "id": "d7e5f9a9-9abe-4f03-b317-1cd5288caa77",
   "metadata": {},
   "source": [
    "## Problem Statement\n",
    "\n",
    "#### Netflix wants to know the analytics about their data.\n",
    "#### They want to understand the viewer behaviour by analyzing content and ratings.\n",
    "#### They also want to know about directors producing the maximum content.\n",
    "#### Which is the country with highest Viewers?\n",
    "#### Which genre is most liked by the viewers? And most rated Movies and TV shows ?\n",
    "\n"
   ]
  },
  {
   "cell_type": "code",
   "execution_count": 44,
   "id": "44882cfb-ff8d-49ab-a440-892cfd0b69e6",
   "metadata": {},
   "outputs": [],
   "source": [
    "import mysql.connector\n",
    "import pandas as pd\n",
    "import numpy as np\n",
    "import seaborn as sns\n",
    "import matplotlib.pyplot as plt"
   ]
  },
  {
   "cell_type": "code",
   "execution_count": 2,
   "id": "1c1bc119-9e04-47ba-904d-9ec83a564d5a",
   "metadata": {},
   "outputs": [
    {
     "data": {
      "text/html": [
       "<div>\n",
       "<style scoped>\n",
       "    .dataframe tbody tr th:only-of-type {\n",
       "        vertical-align: middle;\n",
       "    }\n",
       "\n",
       "    .dataframe tbody tr th {\n",
       "        vertical-align: top;\n",
       "    }\n",
       "\n",
       "    .dataframe thead th {\n",
       "        text-align: right;\n",
       "    }\n",
       "</style>\n",
       "<table border=\"1\" class=\"dataframe\">\n",
       "  <thead>\n",
       "    <tr style=\"text-align: right;\">\n",
       "      <th></th>\n",
       "      <th>show_id</th>\n",
       "      <th>type</th>\n",
       "      <th>title</th>\n",
       "      <th>director</th>\n",
       "      <th>cast</th>\n",
       "      <th>country</th>\n",
       "      <th>date_added</th>\n",
       "      <th>release_year</th>\n",
       "      <th>rating</th>\n",
       "      <th>duration</th>\n",
       "      <th>listed_in</th>\n",
       "      <th>description</th>\n",
       "    </tr>\n",
       "  </thead>\n",
       "  <tbody>\n",
       "    <tr>\n",
       "      <th>0</th>\n",
       "      <td>s1</td>\n",
       "      <td>Movie</td>\n",
       "      <td>Dick Johnson Is Dead</td>\n",
       "      <td>Kirsten Johnson</td>\n",
       "      <td>NaN</td>\n",
       "      <td>United States</td>\n",
       "      <td>September 25, 2021</td>\n",
       "      <td>2020</td>\n",
       "      <td>PG-13</td>\n",
       "      <td>90 min</td>\n",
       "      <td>Documentaries</td>\n",
       "      <td>As her father nears the end of his life, filmm...</td>\n",
       "    </tr>\n",
       "    <tr>\n",
       "      <th>1</th>\n",
       "      <td>s2</td>\n",
       "      <td>TV Show</td>\n",
       "      <td>Blood &amp; Water</td>\n",
       "      <td>NaN</td>\n",
       "      <td>Ama Qamata, Khosi Ngema, Gail Mabalane, Thaban...</td>\n",
       "      <td>South Africa</td>\n",
       "      <td>September 24, 2021</td>\n",
       "      <td>2021</td>\n",
       "      <td>TV-MA</td>\n",
       "      <td>2 Seasons</td>\n",
       "      <td>International TV Shows, TV Dramas, TV Mysteries</td>\n",
       "      <td>After crossing paths at a party, a Cape Town t...</td>\n",
       "    </tr>\n",
       "    <tr>\n",
       "      <th>2</th>\n",
       "      <td>s3</td>\n",
       "      <td>TV Show</td>\n",
       "      <td>Ganglands</td>\n",
       "      <td>Julien Leclercq</td>\n",
       "      <td>Sami Bouajila, Tracy Gotoas, Samuel Jouy, Nabi...</td>\n",
       "      <td>NaN</td>\n",
       "      <td>September 24, 2021</td>\n",
       "      <td>2021</td>\n",
       "      <td>TV-MA</td>\n",
       "      <td>1 Season</td>\n",
       "      <td>Crime TV Shows, International TV Shows, TV Act...</td>\n",
       "      <td>To protect his family from a powerful drug lor...</td>\n",
       "    </tr>\n",
       "    <tr>\n",
       "      <th>3</th>\n",
       "      <td>s4</td>\n",
       "      <td>TV Show</td>\n",
       "      <td>Jailbirds New Orleans</td>\n",
       "      <td>NaN</td>\n",
       "      <td>NaN</td>\n",
       "      <td>NaN</td>\n",
       "      <td>September 24, 2021</td>\n",
       "      <td>2021</td>\n",
       "      <td>TV-MA</td>\n",
       "      <td>1 Season</td>\n",
       "      <td>Docuseries, Reality TV</td>\n",
       "      <td>Feuds, flirtations and toilet talk go down amo...</td>\n",
       "    </tr>\n",
       "    <tr>\n",
       "      <th>4</th>\n",
       "      <td>s5</td>\n",
       "      <td>TV Show</td>\n",
       "      <td>Kota Factory</td>\n",
       "      <td>NaN</td>\n",
       "      <td>Mayur More, Jitendra Kumar, Ranjan Raj, Alam K...</td>\n",
       "      <td>India</td>\n",
       "      <td>September 24, 2021</td>\n",
       "      <td>2021</td>\n",
       "      <td>TV-MA</td>\n",
       "      <td>2 Seasons</td>\n",
       "      <td>International TV Shows, Romantic TV Shows, TV ...</td>\n",
       "      <td>In a city of coaching centers known to train I...</td>\n",
       "    </tr>\n",
       "  </tbody>\n",
       "</table>\n",
       "</div>"
      ],
      "text/plain": [
       "  show_id     type                  title         director  \\\n",
       "0      s1    Movie   Dick Johnson Is Dead  Kirsten Johnson   \n",
       "1      s2  TV Show          Blood & Water              NaN   \n",
       "2      s3  TV Show              Ganglands  Julien Leclercq   \n",
       "3      s4  TV Show  Jailbirds New Orleans              NaN   \n",
       "4      s5  TV Show           Kota Factory              NaN   \n",
       "\n",
       "                                                cast        country  \\\n",
       "0                                                NaN  United States   \n",
       "1  Ama Qamata, Khosi Ngema, Gail Mabalane, Thaban...   South Africa   \n",
       "2  Sami Bouajila, Tracy Gotoas, Samuel Jouy, Nabi...            NaN   \n",
       "3                                                NaN            NaN   \n",
       "4  Mayur More, Jitendra Kumar, Ranjan Raj, Alam K...          India   \n",
       "\n",
       "           date_added  release_year rating   duration  \\\n",
       "0  September 25, 2021          2020  PG-13     90 min   \n",
       "1  September 24, 2021          2021  TV-MA  2 Seasons   \n",
       "2  September 24, 2021          2021  TV-MA   1 Season   \n",
       "3  September 24, 2021          2021  TV-MA   1 Season   \n",
       "4  September 24, 2021          2021  TV-MA  2 Seasons   \n",
       "\n",
       "                                           listed_in  \\\n",
       "0                                      Documentaries   \n",
       "1    International TV Shows, TV Dramas, TV Mysteries   \n",
       "2  Crime TV Shows, International TV Shows, TV Act...   \n",
       "3                             Docuseries, Reality TV   \n",
       "4  International TV Shows, Romantic TV Shows, TV ...   \n",
       "\n",
       "                                         description  \n",
       "0  As her father nears the end of his life, filmm...  \n",
       "1  After crossing paths at a party, a Cape Town t...  \n",
       "2  To protect his family from a powerful drug lor...  \n",
       "3  Feuds, flirtations and toilet talk go down amo...  \n",
       "4  In a city of coaching centers known to train I...  "
      ]
     },
     "execution_count": 2,
     "metadata": {},
     "output_type": "execute_result"
    }
   ],
   "source": [
    "df = pd.read_csv(\"netflix_titles.csv\")\n",
    "df.head()"
   ]
  },
  {
   "cell_type": "markdown",
   "id": "092a2215-df94-4752-a740-732ea48cae1e",
   "metadata": {},
   "source": [
    "## Connecting Python with SQL"
   ]
  },
  {
   "cell_type": "code",
   "execution_count": 3,
   "id": "9e1f019b-79ec-4738-be4a-d9457d472432",
   "metadata": {},
   "outputs": [],
   "source": [
    "config = {\n",
    "    'user': 'root',\n",
    "    'password': 'Ushanshish@5656',\n",
    "    'host': 'localhost',\n",
    "    'database': 'Netflix',\n",
    "}"
   ]
  },
  {
   "cell_type": "code",
   "execution_count": 4,
   "id": "05fc5350-f4c5-4d87-8ee6-cbc881718263",
   "metadata": {},
   "outputs": [],
   "source": [
    "conn = mysql.connector.connect(**config)"
   ]
  },
  {
   "cell_type": "code",
   "execution_count": 5,
   "id": "da91abeb-cb91-4c68-b43d-f9dba0d87ce0",
   "metadata": {},
   "outputs": [],
   "source": [
    "cursor = conn.cursor()"
   ]
  },
  {
   "cell_type": "code",
   "execution_count": 6,
   "id": "eeace5e7-2433-42d1-8799-9b942cfedc93",
   "metadata": {},
   "outputs": [],
   "source": [
    "df = df.fillna('')"
   ]
  },
  {
   "cell_type": "code",
   "execution_count": 7,
   "id": "c722a1fe-2465-4a72-8cce-3d1ed445ba38",
   "metadata": {},
   "outputs": [],
   "source": [
    "create_table_query = '''\n",
    "CREATE TABLE IF NOT EXISTS netflix_titles (\n",
    "    show_id VARCHAR(255),\n",
    "    type VARCHAR(255),\n",
    "    title VARCHAR(255),\n",
    "    director VARCHAR(255),\n",
    "    cast TEXT,\n",
    "    country VARCHAR(255),\n",
    "    date_added VARCHAR(255),\n",
    "    release_year INT,\n",
    "    rating VARCHAR(255),\n",
    "    duration VARCHAR(255),\n",
    "    listed_in VARCHAR(255),\n",
    "    description TEXT\n",
    ")\n",
    "'''\n",
    "cursor.execute(create_table_query)"
   ]
  },
  {
   "cell_type": "code",
   "execution_count": 8,
   "id": "de33a3ca-0085-4fd8-b45b-829b2d6265e4",
   "metadata": {},
   "outputs": [],
   "source": [
    "columns = [\n",
    "    \"show_id VARCHAR(10)\",\n",
    "    \"type VARCHAR(50)\",\n",
    "    \"title VARCHAR(255)\",\n",
    "    \"director VARCHAR(255)\",\n",
    "    \"cast TEXT\",\n",
    "    \"country VARCHAR(100)\",\n",
    "    \"date_added VARCHAR(50)\",\n",
    "    \"release_year INT\",\n",
    "    \"rating VARCHAR(50)\",\n",
    "    \"duration VARCHAR(50)\",\n",
    "    \"listed_in VARCHAR(255)\",\n",
    "    \"description TEXT\"\n",
    "]\n"
   ]
  },
  {
   "cell_type": "code",
   "execution_count": 9,
   "id": "26b1ce25-4d1b-4ae9-baff-03b4389ff7a5",
   "metadata": {},
   "outputs": [
    {
     "name": "stdout",
     "output_type": "stream",
     "text": [
      "Table 'netflix_titles' is ready.\n"
     ]
    }
   ],
   "source": [
    "table_name = 'netflix_titles'\n",
    "\n",
    "create_table_query = f\"\"\"\n",
    "CREATE TABLE IF NOT EXISTS {table_name} (\n",
    "    {', '.join(columns)}\n",
    ")\n",
    "\"\"\"\n",
    "cursor.execute(create_table_query)\n",
    "\n",
    "print(f\"Table '{table_name}' is ready.\")"
   ]
  },
  {
   "cell_type": "code",
   "execution_count": 10,
   "id": "9430502a-9e43-4258-b990-78db8a1fabd3",
   "metadata": {},
   "outputs": [
    {
     "name": "stdout",
     "output_type": "stream",
     "text": [
      "DataFrame loaded and NaN values handled.\n"
     ]
    }
   ],
   "source": [
    "import pandas as pd\n",
    "\n",
    "# Loading the DataFrame\n",
    "df = pd.read_csv('netflix_titles.csv')\n",
    "\n",
    "# Replacing NaN values with a default value\n",
    "df = df.fillna('')\n",
    "\n",
    "print(\"DataFrame loaded and NaN values handled.\")\n"
   ]
  },
  {
   "cell_type": "code",
   "execution_count": 11,
   "id": "0c88225b-b1d2-466b-afb4-35d36ffff28a",
   "metadata": {},
   "outputs": [
    {
     "name": "stdout",
     "output_type": "stream",
     "text": [
      "DataFrame data inserted into the table successfully.\n"
     ]
    }
   ],
   "source": [
    "# Insert query\n",
    "columns_list = ', '.join(df.columns)\n",
    "placeholders = ', '.join(['%s'] * len(df.columns))\n",
    "insert_query = f\"INSERT INTO {table_name} ({columns_list}) VALUES ({placeholders})\"\n",
    "\n",
    "# Inserting DataFrame records one by one\n",
    "for row in df.itertuples(index=False, name=None):\n",
    "    cursor.execute(insert_query, row)\n",
    "\n",
    "conn.commit()\n",
    "\n",
    "print(\"DataFrame data inserted into the table successfully.\")\n"
   ]
  },
  {
   "cell_type": "code",
   "execution_count": 12,
   "id": "547226c1-fd68-449a-95fb-e3d0e600c2ce",
   "metadata": {},
   "outputs": [
    {
     "data": {
      "text/plain": [
       "8807"
      ]
     },
     "execution_count": 12,
     "metadata": {},
     "output_type": "execute_result"
    }
   ],
   "source": [
    "len(df)"
   ]
  },
  {
   "cell_type": "markdown",
   "id": "8e67499d-3d53-4252-9d29-26cd3da0371a",
   "metadata": {},
   "source": [
    "## Spliting Director column"
   ]
  },
  {
   "cell_type": "code",
   "execution_count": 13,
   "id": "fb87e57f-f7d7-42bd-bdfd-43d927de647c",
   "metadata": {},
   "outputs": [],
   "source": [
    "# Split the director column\n",
    "df_directors = df[['show_id', 'director']].copy()\n",
    "df_directors['director'] = df_directors['director'].str.split(',')"
   ]
  },
  {
   "cell_type": "code",
   "execution_count": 14,
   "id": "8fff4e47-baa0-4552-a812-3c1a4fadff56",
   "metadata": {},
   "outputs": [],
   "source": [
    "# Explode the list of directors into separate rows\n",
    "df_directors = df_directors.explode('director')"
   ]
  },
  {
   "cell_type": "code",
   "execution_count": 15,
   "id": "2cd2196b-b89e-4135-bd51-bf37f9344b50",
   "metadata": {},
   "outputs": [],
   "source": [
    "# Remove leading/trailing whitespace from director names\n",
    "df_directors['director'] = df_directors['director'].str.strip()"
   ]
  },
  {
   "cell_type": "code",
   "execution_count": 16,
   "id": "33859663-5c93-4f2b-9d0d-9b5c15d32fcb",
   "metadata": {},
   "outputs": [
    {
     "data": {
      "text/html": [
       "<div>\n",
       "<style scoped>\n",
       "    .dataframe tbody tr th:only-of-type {\n",
       "        vertical-align: middle;\n",
       "    }\n",
       "\n",
       "    .dataframe tbody tr th {\n",
       "        vertical-align: top;\n",
       "    }\n",
       "\n",
       "    .dataframe thead th {\n",
       "        text-align: right;\n",
       "    }\n",
       "</style>\n",
       "<table border=\"1\" class=\"dataframe\">\n",
       "  <thead>\n",
       "    <tr style=\"text-align: right;\">\n",
       "      <th></th>\n",
       "      <th>show_id</th>\n",
       "      <th>director</th>\n",
       "    </tr>\n",
       "  </thead>\n",
       "  <tbody>\n",
       "    <tr>\n",
       "      <th>8802</th>\n",
       "      <td>s8803</td>\n",
       "      <td>David Fincher</td>\n",
       "    </tr>\n",
       "    <tr>\n",
       "      <th>8803</th>\n",
       "      <td>s8804</td>\n",
       "      <td></td>\n",
       "    </tr>\n",
       "    <tr>\n",
       "      <th>8804</th>\n",
       "      <td>s8805</td>\n",
       "      <td>Ruben Fleischer</td>\n",
       "    </tr>\n",
       "    <tr>\n",
       "      <th>8805</th>\n",
       "      <td>s8806</td>\n",
       "      <td>Peter Hewitt</td>\n",
       "    </tr>\n",
       "    <tr>\n",
       "      <th>8806</th>\n",
       "      <td>s8807</td>\n",
       "      <td>Mozez Singh</td>\n",
       "    </tr>\n",
       "  </tbody>\n",
       "</table>\n",
       "</div>"
      ],
      "text/plain": [
       "     show_id         director\n",
       "8802   s8803    David Fincher\n",
       "8803   s8804                 \n",
       "8804   s8805  Ruben Fleischer\n",
       "8805   s8806     Peter Hewitt\n",
       "8806   s8807      Mozez Singh"
      ]
     },
     "execution_count": 16,
     "metadata": {},
     "output_type": "execute_result"
    }
   ],
   "source": [
    "df_directors.tail()"
   ]
  },
  {
   "cell_type": "code",
   "execution_count": 17,
   "id": "5235f345-f5e4-4717-93f6-f44e8c9077d3",
   "metadata": {},
   "outputs": [],
   "source": [
    "netflix_directors = df_directors.to_csv(\"netflix_directors.csv\")"
   ]
  },
  {
   "cell_type": "markdown",
   "id": "a13b1910-82c8-4542-86d5-4b28eadf4407",
   "metadata": {},
   "source": [
    "## Splitting Country column"
   ]
  },
  {
   "cell_type": "code",
   "execution_count": 18,
   "id": "94d7ae27-3354-4f23-a25e-f4d7b573b675",
   "metadata": {},
   "outputs": [],
   "source": [
    "df_country = df[[\"show_id\",\"country\"]].copy()\n",
    "df_country[\"country\"] = df_country[\"country\"].str.split(',')"
   ]
  },
  {
   "cell_type": "code",
   "execution_count": 19,
   "id": "06ae6ecc-dee8-42ae-b792-572fda0eb6a4",
   "metadata": {},
   "outputs": [],
   "source": [
    "df_country = df_country.explode('country')"
   ]
  },
  {
   "cell_type": "code",
   "execution_count": 20,
   "id": "f78871d9-daff-489c-8b0d-d65448aa8d43",
   "metadata": {},
   "outputs": [],
   "source": [
    "df_country[\"country\"] = df_country[\"country\"].str.strip() "
   ]
  },
  {
   "cell_type": "code",
   "execution_count": 21,
   "id": "65df02a8-9245-4c7a-8efd-6a3dd9464ad6",
   "metadata": {},
   "outputs": [
    {
     "data": {
      "text/html": [
       "<div>\n",
       "<style scoped>\n",
       "    .dataframe tbody tr th:only-of-type {\n",
       "        vertical-align: middle;\n",
       "    }\n",
       "\n",
       "    .dataframe tbody tr th {\n",
       "        vertical-align: top;\n",
       "    }\n",
       "\n",
       "    .dataframe thead th {\n",
       "        text-align: right;\n",
       "    }\n",
       "</style>\n",
       "<table border=\"1\" class=\"dataframe\">\n",
       "  <thead>\n",
       "    <tr style=\"text-align: right;\">\n",
       "      <th></th>\n",
       "      <th>show_id</th>\n",
       "      <th>country</th>\n",
       "    </tr>\n",
       "  </thead>\n",
       "  <tbody>\n",
       "    <tr>\n",
       "      <th>0</th>\n",
       "      <td>s1</td>\n",
       "      <td>United States</td>\n",
       "    </tr>\n",
       "    <tr>\n",
       "      <th>1</th>\n",
       "      <td>s2</td>\n",
       "      <td>South Africa</td>\n",
       "    </tr>\n",
       "    <tr>\n",
       "      <th>2</th>\n",
       "      <td>s3</td>\n",
       "      <td></td>\n",
       "    </tr>\n",
       "    <tr>\n",
       "      <th>3</th>\n",
       "      <td>s4</td>\n",
       "      <td></td>\n",
       "    </tr>\n",
       "    <tr>\n",
       "      <th>4</th>\n",
       "      <td>s5</td>\n",
       "      <td>India</td>\n",
       "    </tr>\n",
       "  </tbody>\n",
       "</table>\n",
       "</div>"
      ],
      "text/plain": [
       "  show_id        country\n",
       "0      s1  United States\n",
       "1      s2   South Africa\n",
       "2      s3               \n",
       "3      s4               \n",
       "4      s5          India"
      ]
     },
     "execution_count": 21,
     "metadata": {},
     "output_type": "execute_result"
    }
   ],
   "source": [
    "df_country.head()"
   ]
  },
  {
   "cell_type": "code",
   "execution_count": 22,
   "id": "fb21d1ed-e0bb-40ec-86f9-2fbb100c8648",
   "metadata": {},
   "outputs": [],
   "source": [
    "df_country.to_csv(\"netflix_country.csv\")"
   ]
  },
  {
   "cell_type": "markdown",
   "id": "bba51321-af50-4f57-9ee3-c750c988c365",
   "metadata": {},
   "source": [
    "## Splitting Cast column"
   ]
  },
  {
   "cell_type": "code",
   "execution_count": 23,
   "id": "33712e48-0715-470b-b166-20b4683ec6bf",
   "metadata": {},
   "outputs": [],
   "source": [
    "df_cast = df[[\"show_id\", \"cast\"]].copy()\n",
    "df_cast[\"cast\"] = df_cast[\"cast\"].str.split(\",\")"
   ]
  },
  {
   "cell_type": "code",
   "execution_count": 24,
   "id": "2612d579-63bc-4820-a361-9b08ffba915f",
   "metadata": {},
   "outputs": [],
   "source": [
    "df_cast = df_cast.explode(\"cast\")"
   ]
  },
  {
   "cell_type": "code",
   "execution_count": 25,
   "id": "a34629ba-fcaf-40cb-b048-02cd83ec657a",
   "metadata": {},
   "outputs": [],
   "source": [
    "df_cast[\"cast\"] = df_cast[\"cast\"].str.strip() "
   ]
  },
  {
   "cell_type": "code",
   "execution_count": 26,
   "id": "a7062b10-664e-4821-b3a2-da6e405e0990",
   "metadata": {},
   "outputs": [
    {
     "data": {
      "text/html": [
       "<div>\n",
       "<style scoped>\n",
       "    .dataframe tbody tr th:only-of-type {\n",
       "        vertical-align: middle;\n",
       "    }\n",
       "\n",
       "    .dataframe tbody tr th {\n",
       "        vertical-align: top;\n",
       "    }\n",
       "\n",
       "    .dataframe thead th {\n",
       "        text-align: right;\n",
       "    }\n",
       "</style>\n",
       "<table border=\"1\" class=\"dataframe\">\n",
       "  <thead>\n",
       "    <tr style=\"text-align: right;\">\n",
       "      <th></th>\n",
       "      <th>show_id</th>\n",
       "      <th>cast</th>\n",
       "    </tr>\n",
       "  </thead>\n",
       "  <tbody>\n",
       "    <tr>\n",
       "      <th>0</th>\n",
       "      <td>s1</td>\n",
       "      <td></td>\n",
       "    </tr>\n",
       "    <tr>\n",
       "      <th>1</th>\n",
       "      <td>s2</td>\n",
       "      <td>Ama Qamata</td>\n",
       "    </tr>\n",
       "    <tr>\n",
       "      <th>1</th>\n",
       "      <td>s2</td>\n",
       "      <td>Khosi Ngema</td>\n",
       "    </tr>\n",
       "    <tr>\n",
       "      <th>1</th>\n",
       "      <td>s2</td>\n",
       "      <td>Gail Mabalane</td>\n",
       "    </tr>\n",
       "    <tr>\n",
       "      <th>1</th>\n",
       "      <td>s2</td>\n",
       "      <td>Thabang Molaba</td>\n",
       "    </tr>\n",
       "  </tbody>\n",
       "</table>\n",
       "</div>"
      ],
      "text/plain": [
       "  show_id            cast\n",
       "0      s1                \n",
       "1      s2      Ama Qamata\n",
       "1      s2     Khosi Ngema\n",
       "1      s2   Gail Mabalane\n",
       "1      s2  Thabang Molaba"
      ]
     },
     "execution_count": 26,
     "metadata": {},
     "output_type": "execute_result"
    }
   ],
   "source": [
    "df_cast.head()"
   ]
  },
  {
   "cell_type": "code",
   "execution_count": 27,
   "id": "dc86e241-9535-4b21-ad6b-f57ecfd972b9",
   "metadata": {},
   "outputs": [],
   "source": [
    "df_cast.to_csv(\"netflix_cast.csv\")"
   ]
  },
  {
   "cell_type": "markdown",
   "id": "22e1acf0-19d2-471f-96b1-ed8eb2db2f7b",
   "metadata": {},
   "source": [
    "## Splitting Listed_in column"
   ]
  },
  {
   "cell_type": "code",
   "execution_count": 28,
   "id": "7e42926f-d15d-46ee-8270-f9d809d05c99",
   "metadata": {},
   "outputs": [],
   "source": [
    "df_listed_in = df[[\"show_id\", \"listed_in\"]].copy()\n",
    "df_listed_in[\"listed_in\"] = df_listed_in[\"listed_in\"].str.split(\",\")"
   ]
  },
  {
   "cell_type": "code",
   "execution_count": 29,
   "id": "3a61b346-6a78-4489-b16d-640288600be3",
   "metadata": {},
   "outputs": [],
   "source": [
    "df_listed_in = df_listed_in.explode(\"listed_in\")"
   ]
  },
  {
   "cell_type": "code",
   "execution_count": 30,
   "id": "157617d5-9b7d-45d5-8f4c-a8e35b9892cb",
   "metadata": {},
   "outputs": [],
   "source": [
    "df_listed_in[\"listed_in\"] = df_listed_in[\"listed_in\"].str.strip() "
   ]
  },
  {
   "cell_type": "code",
   "execution_count": 31,
   "id": "7b815722-b678-4e31-bae4-5e3675271218",
   "metadata": {},
   "outputs": [
    {
     "data": {
      "text/html": [
       "<div>\n",
       "<style scoped>\n",
       "    .dataframe tbody tr th:only-of-type {\n",
       "        vertical-align: middle;\n",
       "    }\n",
       "\n",
       "    .dataframe tbody tr th {\n",
       "        vertical-align: top;\n",
       "    }\n",
       "\n",
       "    .dataframe thead th {\n",
       "        text-align: right;\n",
       "    }\n",
       "</style>\n",
       "<table border=\"1\" class=\"dataframe\">\n",
       "  <thead>\n",
       "    <tr style=\"text-align: right;\">\n",
       "      <th></th>\n",
       "      <th>show_id</th>\n",
       "      <th>listed_in</th>\n",
       "    </tr>\n",
       "  </thead>\n",
       "  <tbody>\n",
       "    <tr>\n",
       "      <th>0</th>\n",
       "      <td>s1</td>\n",
       "      <td>Documentaries</td>\n",
       "    </tr>\n",
       "    <tr>\n",
       "      <th>1</th>\n",
       "      <td>s2</td>\n",
       "      <td>International TV Shows</td>\n",
       "    </tr>\n",
       "    <tr>\n",
       "      <th>1</th>\n",
       "      <td>s2</td>\n",
       "      <td>TV Dramas</td>\n",
       "    </tr>\n",
       "    <tr>\n",
       "      <th>1</th>\n",
       "      <td>s2</td>\n",
       "      <td>TV Mysteries</td>\n",
       "    </tr>\n",
       "    <tr>\n",
       "      <th>2</th>\n",
       "      <td>s3</td>\n",
       "      <td>Crime TV Shows</td>\n",
       "    </tr>\n",
       "  </tbody>\n",
       "</table>\n",
       "</div>"
      ],
      "text/plain": [
       "  show_id               listed_in\n",
       "0      s1           Documentaries\n",
       "1      s2  International TV Shows\n",
       "1      s2               TV Dramas\n",
       "1      s2            TV Mysteries\n",
       "2      s3          Crime TV Shows"
      ]
     },
     "execution_count": 31,
     "metadata": {},
     "output_type": "execute_result"
    }
   ],
   "source": [
    "df_listed_in.head()"
   ]
  },
  {
   "cell_type": "code",
   "execution_count": 32,
   "id": "52514ade-0164-4335-a3af-edbc9a947a9f",
   "metadata": {},
   "outputs": [],
   "source": [
    "df_listed_in.to_csv(\"netflix_genre.csv\")"
   ]
  },
  {
   "cell_type": "code",
   "execution_count": 38,
   "id": "bca22a41-f142-408f-adf8-8a851965d602",
   "metadata": {},
   "outputs": [],
   "source": [
    "df.replace('', np.NaN, inplace = True)"
   ]
  },
  {
   "cell_type": "markdown",
   "id": "90848f0e-7f6f-4730-9cca-9d2f74aa7037",
   "metadata": {},
   "source": [
    "## DATA ANALYSIS ON NETFLIX USING VISULALIZATION"
   ]
  },
  {
   "cell_type": "code",
   "execution_count": 39,
   "id": "422c90ec-9e40-4ff9-b4ce-f4205276e9ca",
   "metadata": {},
   "outputs": [
    {
     "data": {
      "text/plain": [
       "show_id            0\n",
       "type               0\n",
       "title              0\n",
       "director        2634\n",
       "cast             825\n",
       "country          831\n",
       "date_added        10\n",
       "release_year       0\n",
       "rating             4\n",
       "duration           3\n",
       "listed_in          0\n",
       "description        0\n",
       "dtype: int64"
      ]
     },
     "execution_count": 39,
     "metadata": {},
     "output_type": "execute_result"
    }
   ],
   "source": [
    "df.isna().sum()"
   ]
  },
  {
   "cell_type": "code",
   "execution_count": 42,
   "id": "49a553f5-31e2-413c-9ab4-4872232ef7bf",
   "metadata": {},
   "outputs": [
    {
     "data": {
      "text/plain": [
       "<Axes: >"
      ]
     },
     "execution_count": 42,
     "metadata": {},
     "output_type": "execute_result"
    },
    {
     "data": {
      "image/png": "[encoded data removed]",
      "text/plain": [
       "<Figure size 640x480 with 2 Axes>"
      ]
     },
     "metadata": {},
     "output_type": "display_data"
    }
   ],
   "source": [
    "sns.heatmap(df.isna())"
   ]
  },
  {
   "cell_type": "markdown",
   "id": "ef044cc1-da79-4707-b969-f41095646f81",
   "metadata": {},
   "source": [
    "## In which year the highest number of the TV Shows & Movies were released ? "
   ]
  },
  {
   "cell_type": "code",
   "execution_count": 45,
   "id": "eb1b080a-2416-42c0-a70d-391346a99906",
   "metadata": {},
   "outputs": [
    {
     "data": {
      "text/plain": [
       "release_year\n",
       "2018    1147\n",
       "2017    1032\n",
       "2019    1030\n",
       "2020     953\n",
       "2016     902\n",
       "Name: count, dtype: int64"
      ]
     },
     "execution_count": 45,
     "metadata": {},
     "output_type": "execute_result"
    }
   ],
   "source": [
    "high_release = df.release_year.value_counts().head(5)\n",
    "high_release"
   ]
  },
  {
   "cell_type": "code",
   "execution_count": 46,
   "id": "9003243e-2176-462a-9d21-c8112fb00a8b",
   "metadata": {},
   "outputs": [
    {
     "data": {
      "text/plain": [
       "<Axes: xlabel='release_year'>"
      ]
     },
     "execution_count": 46,
     "metadata": {},
     "output_type": "execute_result"
    },
    {
     "data": {
      "image/png": "[encoded data removed]",
      "text/plain": [
       "<Figure size 640x480 with 1 Axes>"
      ]
     },
     "metadata": {},
     "output_type": "display_data"
    }
   ],
   "source": [
    "high_release.plot(kind=\"bar\")"
   ]
  },
  {
   "cell_type": "markdown",
   "id": "32d37ca1-14e0-4219-86d6-da3b28fd6397",
   "metadata": {},
   "source": [
    "### show the total number of movies and TV shows."
   ]
  },
  {
   "cell_type": "code",
   "execution_count": 47,
   "id": "73fe0b7a-4c09-4133-917a-0654d8af8dc7",
   "metadata": {},
   "outputs": [
    {
     "data": {
      "text/plain": [
       "type\n",
       "Movie      6131\n",
       "TV Show    2676\n",
       "Name: count, dtype: int64"
      ]
     },
     "execution_count": 47,
     "metadata": {},
     "output_type": "execute_result"
    }
   ],
   "source": [
    "df.type.value_counts()"
   ]
  },
  {
   "cell_type": "code",
   "execution_count": 48,
   "id": "59ec13a4-7122-466a-82a8-16418704ce60",
   "metadata": {},
   "outputs": [
    {
     "data": {
      "text/plain": [
       "<Axes: >"
      ]
     },
     "execution_count": 48,
     "metadata": {},
     "output_type": "execute_result"
    },
    {
     "data": {
      "image/png": "[encoded data removed]",
      "text/plain": [
       "<Figure size 640x480 with 1 Axes>"
      ]
     },
     "metadata": {},
     "output_type": "display_data"
    }
   ],
   "source": [
    "df.type.hist()"
   ]
  },
  {
   "cell_type": "markdown",
   "id": "cebb4404-fbe7-43f9-bb7e-05fa9389426a",
   "metadata": {},
   "source": [
    "### Show top 5 by directors with highest movies produced"
   ]
  },
  {
   "cell_type": "code",
   "execution_count": 53,
   "id": "8c541a3b-61d3-499a-a9f0-79a1ab6272b2",
   "metadata": {},
   "outputs": [
    {
     "data": {
      "text/plain": [
       "director\n",
       "Rajiv Chilaka             19\n",
       "Raúl Campos, Jan Suter    18\n",
       "Suhas Kadav               16\n",
       "Marcus Raboy              16\n",
       "Jay Karas                 14\n",
       "Name: director, dtype: int64"
      ]
     },
     "execution_count": 53,
     "metadata": {},
     "output_type": "execute_result"
    }
   ],
   "source": [
    "df.groupby(\"director\")[\"director\"].count().sort_values(ascending = False).head()"
   ]
  },
  {
   "cell_type": "code",
   "execution_count": 60,
   "id": "49cc51fd-a7d9-4636-b82c-1905249decce",
   "metadata": {},
   "outputs": [
    {
     "data": {
      "text/html": [
       "<div>\n",
       "<style scoped>\n",
       "    .dataframe tbody tr th:only-of-type {\n",
       "        vertical-align: middle;\n",
       "    }\n",
       "\n",
       "    .dataframe tbody tr th {\n",
       "        vertical-align: top;\n",
       "    }\n",
       "\n",
       "    .dataframe thead th {\n",
       "        text-align: right;\n",
       "    }\n",
       "</style>\n",
       "<table border=\"1\" class=\"dataframe\">\n",
       "  <thead>\n",
       "    <tr style=\"text-align: right;\">\n",
       "      <th></th>\n",
       "      <th>director</th>\n",
       "      <th>count</th>\n",
       "    </tr>\n",
       "  </thead>\n",
       "  <tbody>\n",
       "    <tr>\n",
       "      <th>0</th>\n",
       "      <td>Rajiv Chilaka</td>\n",
       "      <td>19</td>\n",
       "    </tr>\n",
       "    <tr>\n",
       "      <th>1</th>\n",
       "      <td>Raúl Campos, Jan Suter</td>\n",
       "      <td>18</td>\n",
       "    </tr>\n",
       "    <tr>\n",
       "      <th>2</th>\n",
       "      <td>Marcus Raboy</td>\n",
       "      <td>16</td>\n",
       "    </tr>\n",
       "    <tr>\n",
       "      <th>3</th>\n",
       "      <td>Suhas Kadav</td>\n",
       "      <td>16</td>\n",
       "    </tr>\n",
       "    <tr>\n",
       "      <th>4</th>\n",
       "      <td>Jay Karas</td>\n",
       "      <td>14</td>\n",
       "    </tr>\n",
       "  </tbody>\n",
       "</table>\n",
       "</div>"
      ],
      "text/plain": [
       "                 director  count\n",
       "0           Rajiv Chilaka     19\n",
       "1  Raúl Campos, Jan Suter     18\n",
       "2            Marcus Raboy     16\n",
       "3             Suhas Kadav     16\n",
       "4               Jay Karas     14"
      ]
     },
     "execution_count": 60,
     "metadata": {},
     "output_type": "execute_result"
    }
   ],
   "source": [
    "director_counts = df['director'].value_counts().sort_values(ascending = False).reset_index().head()\n",
    "director_counts"
   ]
  },
  {
   "cell_type": "code",
   "execution_count": 69,
   "id": "f543ea9a-9a7d-4b6f-8c1b-c03d7af954b4",
   "metadata": {},
   "outputs": [
    {
     "data": {
      "image/png": "[encoded data removed]",
      "text/plain": [
       "<Figure size 1000x600 with 1 Axes>"
      ]
     },
     "metadata": {},
     "output_type": "display_data"
    }
   ],
   "source": [
    "plt.figure(figsize = (10,6))\n",
    "sns.barplot(data = director_counts , x=\"director\", y=\"count\")\n",
    "plt.xlabel('Director')\n",
    "plt.ylabel('Count')\n",
    "plt.title('Top 5 Directors by Count')\n",
    "plt.xticks(rotation=5)\n",
    "plt.show()"
   ]
  },
  {
   "cell_type": "markdown",
   "id": "72d6a351-c335-4dac-ad32-53ff2fb6c05f",
   "metadata": {},
   "source": [
    "# CONCLUSION "
   ]
  },
  {
   "cell_type": "markdown",
   "id": "948222d3-edda-4dba-a4a5-6630a5017c07",
   "metadata": {},
   "source": [
    "### We have analyzed Netflix Data set using Python, SQL and Power BI .\n",
    "### First of all we cleaned the raw data by removing duplicates, handlig null values, changing datatypes, creating new tables for comma seperated values by using SQL and Python.\n",
    "### Then we started Analysing data by answering some question using SQL like country with highest releases, avg genre time, etc.\n",
    "### Then we analyzed the dataset using visualization libraries like seaborn and matplotlib in Python and finding the answers about top 5 directors, total no of movies and TV shows available on Netflix, etc.\n",
    "### Then we analyzed by creating interactive Dashboard using Power BI to find out best rated movies, countries with available content, ratings as per genre and many more."
   ]
  },
  {
   "cell_type": "markdown",
   "id": "46805d37-f172-40b3-8bdc-3ca92fd70d03",
   "metadata": {},
   "source": [
    "# FINDINGS"
   ]
  },
  {
   "cell_type": "markdown",
   "id": "672ded5c-1f53-4ed1-8ea1-6978f4669949",
   "metadata": {},
   "source": [
    "## Key Findings\n",
    "### 1. **Content Production**\n",
    "   #### - USA contributes about 42% of the available content on Netflix.\n",
    "\n",
    "### 2. **Top Rated Movies**\n",
    "   #### - The best-rated movie is \"CM 101\" from Turkey, genre - Comedy, with an average rating of about 9.2.\n",
    "\n",
    "### 3. **Top Rated TV Show**\n",
    "   #### - The best-rated TV show is \"Stranger Things\" from the USA, genre - Talk Show, with an average rating of about 9.4.\n",
    "\n",
    "### 4. **Overall Netflix Rating**\n",
    "   #### - The overall Netflix rating is about 6.7 based on 110 million votes.\n",
    "\n",
    "### 5. **Preferred Genre**\n",
    "   #### - Comedy is the most preferred genre on Netflix with over 1300 available titles."
   ]
  },
  {
   "cell_type": "markdown",
   "id": "56dd2966-38cd-4afa-a38d-dcf60699efc5",
   "metadata": {},
   "source": [
    "# SUGGESTIONS"
   ]
  },
  {
   "cell_type": "markdown",
   "id": "5021aa05-f82d-4fc5-aec5-0bc2a1325c0f",
   "metadata": {},
   "source": [
    "## Based on the key findings from analysis of the Netflix dataset, here are several suggestions that Netflix could consider:\n",
    "\n",
    "###  **Diversify Content Production**\n",
    "#### While the USA contributes a significant portion (42%) of the available content on Netflix, there is an opportunity to diversify content production by increasing investments in content from other countries. This could attract a wider global audience and cater to diverse tastes and preferences.\n",
    "\n",
    "### **Promoting High-Rated Content**\n",
    "#### Promote high-rated movies like \"CM 101\" from Turkey to audiences globally, emphasizing its high rating and unique comedic appeal.\n",
    "#### Similarly, continue to highlight \"Stranger Things\" as a flagship show, leveraging its popularity and high rating to attract and retain subscribers.\n",
    "\n",
    "### **Improving Recommendation Algorithms**\n",
    "#### Netflix can enhance recommendation algorithms to ensure that top-rated content are easily discoverable by users who may enjoy these genres or types of content.\n",
    "#### Include user preferences and high-rated content as key factors in personalized recommendations.\n",
    "\n",
    "### **Global Strategy Alignment**\n",
    "#### Invest in localized content production to cater to specific regional tastes and preferences, increasing engagement and satisfaction among international subscribers."
   ]
  },
  {
   "cell_type": "markdown",
   "id": "d6eb4470-de57-4eaa-a761-8f5a0ffdedc8",
   "metadata": {},
   "source": [
    "<div style=\"text-align: center; background-color: black;\">\n",
    "    <span style=\"font-size: 72px; color: red; font-weight: bold;\">THANK YOU</span>\n",
    "</div>\n"
   ]
  }
 ],
 "metadata": {
  "kernelspec": {
   "display_name": "Python 3 (ipykernel)",
   "language": "python",
   "name": "python3"
  },
  "language_info": {
   "codemirror_mode": {
    "name": "ipython",
    "version": 3
   },
   "file_extension": ".py",
   "mimetype": "text/x-python",
   "name": "python",
   "nbconvert_exporter": "python",
   "pygments_lexer": "ipython3",
   "version": "3.11.5"
  }
 },
 "nbformat": 4,
 "nbformat_minor": 5
}
